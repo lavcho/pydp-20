{
 "cells": [
  {
   "cell_type": "code",
   "execution_count": 2,
   "id": "bf940ee6",
   "metadata": {},
   "outputs": [],
   "source": [
    "import numpy as np"
   ]
  },
  {
   "cell_type": "markdown",
   "id": "9572ee07",
   "metadata": {},
   "source": [
    "## Задание 1\n",
    "Создайте numpy array с элементами от числа N до 0 (например, для N = 10 это будет array([9, 8, 7, 6, 5, 4, 3, 2, 1, 0]))."
   ]
  },
  {
   "cell_type": "code",
   "execution_count": 3,
   "id": "a250117d",
   "metadata": {},
   "outputs": [
    {
     "data": {
      "text/plain": [
       "array([9, 8, 7, 6, 5, 4, 3, 2, 1, 0])"
      ]
     },
     "execution_count": 3,
     "metadata": {},
     "output_type": "execute_result"
    }
   ],
   "source": [
    "N = 10\n",
    "np_arange = np.arange(N-1, -1, -1)\n",
    "np_arange"
   ]
  },
  {
   "cell_type": "markdown",
   "id": "a3eeb9ef",
   "metadata": {},
   "source": [
    "## Задание 2\n",
    "Создайте диагональную матрицу с элементами от N до 0. Посчитайте сумму ее значений на диагонали."
   ]
  },
  {
   "cell_type": "code",
   "execution_count": 17,
   "id": "afd90ae3",
   "metadata": {},
   "outputs": [
    {
     "name": "stdout",
     "output_type": "stream",
     "text": [
      "Элементы от N до нуля:  [10  9  8  7  6  5  4  3  2  1  0] \n",
      "\n",
      "Диагональная матрица с элементами np_arange на диагонали:\n",
      "\n",
      " [[10  0  0  0  0  0  0  0  0  0  0]\n",
      " [ 0  9  0  0  0  0  0  0  0  0  0]\n",
      " [ 0  0  8  0  0  0  0  0  0  0  0]\n",
      " [ 0  0  0  7  0  0  0  0  0  0  0]\n",
      " [ 0  0  0  0  6  0  0  0  0  0  0]\n",
      " [ 0  0  0  0  0  5  0  0  0  0  0]\n",
      " [ 0  0  0  0  0  0  4  0  0  0  0]\n",
      " [ 0  0  0  0  0  0  0  3  0  0  0]\n",
      " [ 0  0  0  0  0  0  0  0  2  0  0]\n",
      " [ 0  0  0  0  0  0  0  0  0  1  0]\n",
      " [ 0  0  0  0  0  0  0  0  0  0  0]]\n",
      "\n",
      "Сумма диагонали матрицы равна 55\n"
     ]
    }
   ],
   "source": [
    "np_arange = np.arange(N,-1,-1)\n",
    "print(\"Элементы от N до нуля: \",np_arange, '\\n')\n",
    "\n",
    "np_diag = np.diag(np_arange, k=0)\n",
    "print('Диагональная матрица с элементами np_arange на диагонали:\\n\\n',np_diag)\n",
    "\n",
    "diag_sum = 0\n",
    "\n",
    "for i in range(np_diag.shape[0]):\n",
    "    diag_sum += np_diag[i][i]\n",
    "    \n",
    "print(f'\\nСумма диагонали матрицы равна {diag_sum}')"
   ]
  },
  {
   "cell_type": "markdown",
   "id": "02886710",
   "metadata": {},
   "source": [
    "## Задание 3\n",
    "Решите систему уравнений:\n",
    "\n",
    "4x + 2y + z = 4\n",
    "\n",
    "x + 3y = 12\n",
    "\n",
    "5y + 4z = -3"
   ]
  },
  {
   "cell_type": "code",
   "execution_count": 32,
   "id": "03ae2028",
   "metadata": {},
   "outputs": [
    {
     "name": "stdout",
     "output_type": "stream",
     "text": [
      "x = 0.067, y = 4.0, z = -4.2\n",
      "Решение верное\n"
     ]
    }
   ],
   "source": [
    "# коэффициенты при переменных в левой части уравнения\n",
    "a = np.array([\n",
    "    [4, 2, 1],\n",
    "    [1, 3, 0],\n",
    "    [0, 5, 4]\n",
    "]\n",
    ")\n",
    "\n",
    "# значения в правой части уравнения\n",
    "b = np.array([4, 12, 3])\n",
    "\n",
    "# решение\n",
    "from numpy import linalg\n",
    "\n",
    "x, y, z = linalg.solve(a, b)\n",
    "print(f'x = {x:.2}, y = {y:.2}, z = {z:.2}')\n",
    "\n",
    "# проверка корректности\n",
    "flag = np.allclose(np.dot(a, [x, y, z]), b )\n",
    "if flag:\n",
    "    print('Решение верное')\n",
    "else:\n",
    "    print('Решение неверное!')"
   ]
  },
  {
   "cell_type": "markdown",
   "id": "eac0644d",
   "metadata": {},
   "source": [
    "## Задача 4\n",
    "Имеется матрица покупок в интернет-магазине. Столбец А - ID пользователя. Остальные столбцы - количество покупок категорий товаров этим пользователем:"
   ]
  },
  {
   "cell_type": "markdown",
   "id": "30c2f674",
   "metadata": {},
   "source": [
    "Матрица в виде numpy array"
   ]
  },
  {
   "cell_type": "code",
   "execution_count": 35,
   "id": "d7e8949b",
   "metadata": {},
   "outputs": [],
   "source": [
    "users_stats = np.array(\n",
    "    [\n",
    "        [2, 1, 0, 0, 0, 0],\n",
    "        [1, 1, 2, 1, 0, 0],\n",
    "        [2, 0, 1, 0, 0, 0],\n",
    "        [1, 1, 2, 1, 0, 1],\n",
    "        [0, 0, 1, 2, 0, 0],\n",
    "        [0, 0, 0, 0, 0, 5],\n",
    "        [1, 0, 0, 0, 0, 0],\n",
    "        [0, 1, 1, 0, 0, 0],\n",
    "        [0, 0, 0, 1, 1, 3],\n",
    "        [1, 0, 0, 2, 1, 4]\n",
    "    ], \n",
    "    np.int32\n",
    ")"
   ]
  },
  {
   "cell_type": "markdown",
   "id": "cf39e0a5",
   "metadata": {},
   "source": [
    "На сайт заходит очередной посетитель, о покупках которого известно следующее:"
   ]
  },
  {
   "cell_type": "code",
   "execution_count": 5,
   "id": "f185ed59",
   "metadata": {},
   "outputs": [],
   "source": [
    "next_user_stats = np.array([0, 1, 2, 0, 0, 0])"
   ]
  },
  {
   "cell_type": "markdown",
   "id": "67a49c5f",
   "metadata": {},
   "source": [
    "Найдите самого похожего пользователя. Т. е. посчитайте косинусное сходство между этим пользователем и всеми пользователями из массива user_stats"
   ]
  },
  {
   "cell_type": "code",
   "execution_count": 33,
   "id": "442c9ac2",
   "metadata": {},
   "outputs": [],
   "source": [
    "def cosine( a, b ):\n",
    "    \"\"\"\n",
    "    Подсчет косинуса угла между векторами a, b по их координатам\n",
    "    \"\"\"\n",
    "    \n",
    "    # длины векторов\n",
    "    aLength = np.linalg.norm( a )\n",
    "    bLength = np.linalg.norm( b )\n",
    "    \n",
    "    return np.dot( a, b ) / ( aLength * bLength )"
   ]
  },
  {
   "cell_type": "code",
   "execution_count": 48,
   "id": "44904e32",
   "metadata": {},
   "outputs": [
    {
     "name": "stdout",
     "output_type": "stream",
     "text": [
      "Пришёл новый посетитель со статистикой:\n",
      "[0 1 2 0 0 0]\n",
      "\n",
      "Самый похожий пользователь с очередным посетителем - в строке 7 матрицы users_stats с косинусом 0.9486832980505138\n",
      "\n",
      "Его статистика:\n",
      "[0 1 1 0 0 0]\n"
     ]
    }
   ],
   "source": [
    "#поищем максимальный косинус и запишем, в какой строке он был получен, в переменную num_max\n",
    "max_cosine = cosine(next_user_stats, users_stats[0])\n",
    "num_max = 0\n",
    "for i in range(1,len(users_stats)):\n",
    "    next_cosine = cosine(next_user_stats, users_stats[i])\n",
    "    if max_cosine < next_cosine:\n",
    "        max_cosine = next_cosine\n",
    "        num_max = i\n",
    "\n",
    "print(f'Пришёл новый посетитель со статистикой:\\n{next_user_stats}\\n')\n",
    "print(f'Самый похожий пользователь с очередным посетителем - в строке {num_max} матрицы users_stats с косинусом {max_cosine}\\n')\n",
    "print(f'Его статистика:\\n{users_stats[num_max]}')"
   ]
  }
 ],
 "metadata": {
  "kernelspec": {
   "display_name": "Python 3",
   "language": "python",
   "name": "python3"
  },
  "language_info": {
   "codemirror_mode": {
    "name": "ipython",
    "version": 3
   },
   "file_extension": ".py",
   "mimetype": "text/x-python",
   "name": "python",
   "nbconvert_exporter": "python",
   "pygments_lexer": "ipython3",
   "version": "3.8.8"
  }
 },
 "nbformat": 4,
 "nbformat_minor": 5
}
