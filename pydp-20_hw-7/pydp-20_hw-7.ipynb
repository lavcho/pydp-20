{
 "cells": [
  {
   "cell_type": "markdown",
   "id": "6d5e9acf",
   "metadata": {},
   "source": [
    "# Домашнее задание к лекции «Исключения и обработка ошибок»"
   ]
  },
  {
   "cell_type": "markdown",
   "id": "cd1ea322",
   "metadata": {},
   "source": [
    "## Задание 1\n",
    "Печатные газеты использовали свой формат дат для каждого выпуска. Для каждой газеты из списка напишите формат указанной даты для перевода в объект datetime:\n",
    "\n",
    "The Moscow Times - Wednesday, October 2, 2002\n",
    "\n",
    "The Guardian - Friday, 11.10.13\n",
    "\n",
    "Daily News - Thursday, 18 August 1977"
   ]
  },
  {
   "cell_type": "code",
   "execution_count": 10,
   "id": "5db69e75",
   "metadata": {},
   "outputs": [
    {
     "name": "stdout",
     "output_type": "stream",
     "text": [
      "2002-10-02 00:00:00\n",
      "2013-10-11 00:00:00\n",
      "1977-08-18 00:00:00\n"
     ]
    }
   ],
   "source": [
    "from datetime import datetime\n",
    "\n",
    "Moscow_Times_date = datetime.strptime('Wednesday, October 2, 2002', '%A, %B %d, %Y')\n",
    "# поскольку The Guardian - газета из Великобритании, то считаем, что сперва идёт день, потом месяц, потом год\n",
    "Guardian_date = datetime.strptime('Friday, 11.10.13', '%A, %d.%m.%y')\n",
    "Daily_News_date = datetime.strptime('Thursday, 18 August 1977', '%A, %d %B %Y')\n",
    "\n",
    "print(Moscow_Times_date)\n",
    "print(Guardian_date)\n",
    "print(Daily_News_date)"
   ]
  },
  {
   "cell_type": "markdown",
   "id": "83daff9d",
   "metadata": {},
   "source": [
    "## Задание 2\n",
    "Дан поток дат в формате YYYY-MM-DD, в которых встречаются некорректные значения:\n",
    "\n",
    "stream = [‘2018-04-02’, ‘2018-02-29’, ‘2018-19-02’]\n",
    "\n",
    "Напишите функцию, которая проверяет эти даты на корректность. Т. е. для каждой даты возвращает True (дата корректна) или False (некорректная дата)."
   ]
  },
  {
   "cell_type": "code",
   "execution_count": 20,
   "id": "9d7eb732",
   "metadata": {},
   "outputs": [
    {
     "data": {
      "text/plain": [
       "[True, False, False]"
      ]
     },
     "execution_count": 20,
     "metadata": {},
     "output_type": "execute_result"
    }
   ],
   "source": [
    "from datetime import datetime\n",
    "\n",
    "stream = ['2018-04-02', '2018-02-29', '2018-19-02']\n",
    "\n",
    "def date_correct(date_stream):\n",
    "    '''\n",
    "    Данная функция проверяет в потоке данных, заданном списком, корректность дат с точки зрения формата \"ГГГГ-ММ-ДД\",\n",
    "    возвращая список такой же длины, где каждой дате из потока дат поставлено:\n",
    "    True, если формат верный;\n",
    "    False, если формат неверный.\n",
    "    \n",
    "    Если на входе - не список, функция вернёт сообщение об ошибке и None.\n",
    "    '''\n",
    "    \n",
    "    if isinstance(date_stream, list):\n",
    "        correct_date = []\n",
    "        for date in date_stream:\n",
    "            try:\n",
    "                datetime.strptime(date, '%Y-%m-%d')\n",
    "                correct_date.append(True)\n",
    "            except:\n",
    "                correct_date.append(False)\n",
    "        return correct_date\n",
    "    else:\n",
    "        print('В качестве аргумента функции задана переменная, не являющаяся списком.')\n",
    "        return None\n",
    "\n",
    "date_correct(stream)"
   ]
  },
  {
   "cell_type": "markdown",
   "id": "c2bf7239",
   "metadata": {},
   "source": [
    "## Задание 3\n",
    "Напишите функцию date_range, которая возвращает список дат за период от start_date до end_date.\n",
    "\n",
    "Даты должны вводиться в формате YYYY-MM-DD.\n",
    "\n",
    "В случае неверного формата или при start_date > end_date должен возвращаться пустой список."
   ]
  },
  {
   "cell_type": "code",
   "execution_count": 43,
   "id": "ae7bee88",
   "metadata": {},
   "outputs": [
    {
     "name": "stdout",
     "output_type": "stream",
     "text": [
      "Введите стартовую дату в формате ГГГГ-ММ-ДД: 2020-01-01\n",
      "Введите конечную дату в формате ГГГГ-ММ-ДД: 2020-01-30\n",
      "True\n",
      "\n",
      " ['2020-01-01', '2020-01-02', '2020-01-03', '2020-01-04', '2020-01-05', '2020-01-06', '2020-01-07', '2020-01-08', '2020-01-09', '2020-01-10', '2020-01-11', '2020-01-12', '2020-01-13', '2020-01-14', '2020-01-15', '2020-01-16', '2020-01-17', '2020-01-18', '2020-01-19', '2020-01-20', '2020-01-21', '2020-01-22', '2020-01-23', '2020-01-24', '2020-01-25', '2020-01-26', '2020-01-27', '2020-01-28', '2020-01-29', '2020-01-30']\n"
     ]
    }
   ],
   "source": [
    "from datetime import datetime, timedelta\n",
    "\n",
    "\n",
    "\n",
    "def date_range(start_date, end_date):\n",
    "    '''\n",
    "    Данная функция принимает на вход начальную и конечную даты в формате ГГГГ-ММ-ДД,\n",
    "    после чего возвращает список дат за период от начальной до конечной даты.\n",
    "    В случае неверного формата или если начальная дата больше конечной, возвращается пустой список.\n",
    "    '''\n",
    "    try:\n",
    "        start_datetime = datetime.strptime(start_date, '%Y-%m-%d')\n",
    "        end_datetime = datetime.strptime(end_date, '%Y-%m-%d')\n",
    "        if start_datetime > end_datetime:\n",
    "            print('Ошибка: начальная дата больше конечной.')\n",
    "            return []\n",
    "        else:\n",
    "            date_list = []\n",
    "            date_list.append(start_date)\n",
    "            current_datetime = start_datetime\n",
    "            print(current_datetime < end_datetime)\n",
    "            while current_datetime < end_datetime:\n",
    "                current_datetime += timedelta(days=1)\n",
    "                date_list.append(current_datetime.strftime('%Y-%m-%d'))\n",
    "            return date_list         \n",
    "    except:\n",
    "        print('Ошибка: неверный формат входных данных.')\n",
    "        return []\n",
    "    \n",
    "    \n",
    "    \n",
    "start_date = input('Введите стартовую дату в формате ГГГГ-ММ-ДД: ')\n",
    "end_date = input('Введите конечную дату в формате ГГГГ-ММ-ДД: ')\n",
    "\n",
    "print('\\n', date_range(start_date, end_date))"
   ]
  },
  {
   "cell_type": "markdown",
   "id": "4757c2c7",
   "metadata": {},
   "source": [
    "## Задание 4 (бонусное)\n",
    "Ваш коллега прислал код функции:\n",
    "```python\n",
    "DEFAULT_USER_COUNT = 3\n",
    "\n",
    "def delete_and_return_last_user(region, default_list=[‘A100’, ‘A101’, ‘A102’]):\n",
    "'''\n",
    "Удаляет из списка default_list последнего пользователя\n",
    "и возвращает ID нового последнего пользователя.\n",
    "'''\n",
    "element_to_delete = default_list[-1]\n",
    "default_list.remove(element_to_delete)\n",
    "return default_list[DEFAULT_USER_COUNT-2]\n",
    "```\n",
    "\n",
    "При однократном вызове этой функции все работает корректно:\n",
    "\n",
    "delete_and_return_last_user(1)\n",
    "\n",
    "‘A101’\n",
    "\n",
    "Однако, при повторном вызове получается ошибка IndexError: list index out of range.\n",
    "\n",
    "### Задание:\n",
    "\n",
    "1. Что значит ошибка list index out of range?\n",
    "1. Почему при первом запуске функция работает корректно, а при втором - нет?"
   ]
  },
  {
   "cell_type": "code",
   "execution_count": 50,
   "id": "d699d422",
   "metadata": {},
   "outputs": [
    {
     "name": "stdout",
     "output_type": "stream",
     "text": [
      "Первый запуск:\n",
      "До манипуляций:  ['A100', 'A101', 'A102']\n",
      "После манипуляций:  ['A100', 'A101']\n",
      "Второй запуск:\n",
      "До манипуляций:  ['A100', 'A101']\n",
      "После манипуляций:  ['A100']\n"
     ]
    },
    {
     "ename": "IndexError",
     "evalue": "list index out of range",
     "output_type": "error",
     "traceback": [
      "\u001b[1;31m---------------------------------------------------------------------------\u001b[0m",
      "\u001b[1;31mIndexError\u001b[0m                                Traceback (most recent call last)",
      "\u001b[1;32m<ipython-input-50-0010ee061df0>\u001b[0m in \u001b[0;36m<module>\u001b[1;34m\u001b[0m\n\u001b[0;32m     15\u001b[0m \u001b[0mdelete_and_return_last_user\u001b[0m\u001b[1;33m(\u001b[0m\u001b[1;36m1\u001b[0m\u001b[1;33m)\u001b[0m\u001b[1;33m\u001b[0m\u001b[1;33m\u001b[0m\u001b[0m\n\u001b[0;32m     16\u001b[0m \u001b[0mprint\u001b[0m\u001b[1;33m(\u001b[0m\u001b[1;34m'Второй запуск:'\u001b[0m\u001b[1;33m)\u001b[0m\u001b[1;33m\u001b[0m\u001b[1;33m\u001b[0m\u001b[0m\n\u001b[1;32m---> 17\u001b[1;33m \u001b[0mdelete_and_return_last_user\u001b[0m\u001b[1;33m(\u001b[0m\u001b[1;36m3\u001b[0m\u001b[1;33m)\u001b[0m\u001b[1;33m\u001b[0m\u001b[1;33m\u001b[0m\u001b[0m\n\u001b[0m",
      "\u001b[1;32m<ipython-input-50-0010ee061df0>\u001b[0m in \u001b[0;36mdelete_and_return_last_user\u001b[1;34m(region, default_list)\u001b[0m\n\u001b[0;32m     10\u001b[0m     \u001b[0mdefault_list\u001b[0m\u001b[1;33m.\u001b[0m\u001b[0mremove\u001b[0m\u001b[1;33m(\u001b[0m\u001b[0melement_to_delete\u001b[0m\u001b[1;33m)\u001b[0m\u001b[1;33m\u001b[0m\u001b[1;33m\u001b[0m\u001b[0m\n\u001b[0;32m     11\u001b[0m     \u001b[0mprint\u001b[0m\u001b[1;33m(\u001b[0m\u001b[1;34m'После манипуляций: '\u001b[0m\u001b[1;33m,\u001b[0m \u001b[0mdefault_list\u001b[0m\u001b[1;33m)\u001b[0m\u001b[1;33m\u001b[0m\u001b[1;33m\u001b[0m\u001b[0m\n\u001b[1;32m---> 12\u001b[1;33m     \u001b[1;32mreturn\u001b[0m \u001b[0mdefault_list\u001b[0m\u001b[1;33m[\u001b[0m\u001b[0mDEFAULT_USER_COUNT\u001b[0m\u001b[1;33m-\u001b[0m\u001b[1;36m2\u001b[0m\u001b[1;33m]\u001b[0m\u001b[1;33m\u001b[0m\u001b[1;33m\u001b[0m\u001b[0m\n\u001b[0m\u001b[0;32m     13\u001b[0m \u001b[1;33m\u001b[0m\u001b[0m\n\u001b[0;32m     14\u001b[0m \u001b[0mprint\u001b[0m\u001b[1;33m(\u001b[0m\u001b[1;34m'Первый запуск:'\u001b[0m\u001b[1;33m)\u001b[0m\u001b[1;33m\u001b[0m\u001b[1;33m\u001b[0m\u001b[0m\n",
      "\u001b[1;31mIndexError\u001b[0m: list index out of range"
     ]
    }
   ],
   "source": [
    "DEFAULT_USER_COUNT = 3\n",
    "\n",
    "def delete_and_return_last_user(region, default_list=['A100', 'A101', 'A102']):\n",
    "    '''\n",
    "    Удаляет из списка default_list последнего пользователя\n",
    "    и возвращает ID нового последнего пользователя.\n",
    "    '''\n",
    "    print('До манипуляций: ', default_list)\n",
    "    element_to_delete = default_list[-1]\n",
    "    default_list.remove(element_to_delete)\n",
    "    print('После манипуляций: ', default_list)\n",
    "    return default_list[DEFAULT_USER_COUNT-2]\n",
    "\n",
    "print('Первый запуск:')\n",
    "delete_and_return_last_user(1)\n",
    "print('Второй запуск:')\n",
    "delete_and_return_last_user(3)"
   ]
  },
  {
   "cell_type": "markdown",
   "id": "e9cb422f",
   "metadata": {},
   "source": [
    "### 1. Что значит ошибка list index out of range?\n",
    "Ошибка \"list index out of range\" возникает, когда идёт обращение к несуществующему элементу списка.\n",
    "\n",
    "### 2. Почему при первом запуске функция работает корректно, а при втором - нет?\n",
    "При втором запуске в переменной default_list первоначально - два элемента. На вывод требуется подать DEFAULT_USER_COUNT-2 элемент, т.е. элемент 3-2=1, однако после манипуляций в списке default_list остаётся только один элемент, т.е. индекс 1 (второй элемент) - не существует.\n",
    "\n",
    "### Как исправить?"
   ]
  },
  {
   "cell_type": "code",
   "execution_count": 56,
   "id": "191477bf",
   "metadata": {},
   "outputs": [
    {
     "name": "stdout",
     "output_type": "stream",
     "text": [
      "Первый запуск:\n",
      "A101\n",
      "Второй запуск:\n",
      "A100\n"
     ]
    }
   ],
   "source": [
    "def delete_and_return_last_user(region=1, default_list=['A100', 'A101', 'A102']):\n",
    "    '''\n",
    "    Удаляет из списка default_list последнего пользователя\n",
    "    и возвращает ID нового последнего пользователя.\n",
    "    '''\n",
    "    element_to_delete = default_list[-1]\n",
    "    default_list.remove(element_to_delete)\n",
    "    return default_list[-1]\n",
    "\n",
    "print('Первый запуск:')\n",
    "print(delete_and_return_last_user(1))\n",
    "print('Второй запуск:')\n",
    "print(delete_and_return_last_user(1))"
   ]
  }
 ],
 "metadata": {
  "kernelspec": {
   "display_name": "Python 3",
   "language": "python",
   "name": "python3"
  },
  "language_info": {
   "codemirror_mode": {
    "name": "ipython",
    "version": 3
   },
   "file_extension": ".py",
   "mimetype": "text/x-python",
   "name": "python",
   "nbconvert_exporter": "python",
   "pygments_lexer": "ipython3",
   "version": "3.8.8"
  }
 },
 "nbformat": 4,
 "nbformat_minor": 5
}
