{
 "cells": [
  {
   "cell_type": "markdown",
   "id": "30519c94",
   "metadata": {},
   "source": [
    "# Домашнее задание «Управляющие конструкции и коллекции» часть 1\n",
    "## Задание 1\n",
    "Дана переменная, в которой хранится слово из латинских букв. Напишите код, который выводит на экран:\n",
    "\n",
    "среднюю букву, если число букв в слове нечетное;\n",
    "две средних буквы, если число букв четное.\n",
    "Примеры работы программы:\n",
    "\n",
    "word = ‘test’\n",
    "Результат:\n",
    "es\n",
    "\n",
    "word = ‘testing’\n",
    "Результат:\n",
    "t\n",
    "\n",
    "**Решение:**"
   ]
  },
  {
   "cell_type": "code",
   "execution_count": 15,
   "id": "515ef89d",
   "metadata": {},
   "outputs": [
    {
     "name": "stdout",
     "output_type": "stream",
     "text": [
      "Введите строку: testing\n",
      "3\n",
      "t\n"
     ]
    }
   ],
   "source": [
    "word = input('Введите строку: ')\n",
    "half_word = len(word) // 2\n",
    "print(half_word)\n",
    "if len(word) % 2 == 0:\n",
    "    print(word[half_word-1:half_word+1])\n",
    "else:\n",
    "    print(word[half_word])"
   ]
  },
  {
   "cell_type": "markdown",
   "id": "64fa342f",
   "metadata": {},
   "source": [
    "## Задание 2\n",
    "Напишите программу, которая последовательно запрашивает у пользователя числа (по одному за раз) и после первого нуля выводит сумму всех ранее введенных чисел.\n",
    "\n",
    "Примеры работы программы:\n",
    "\n",
    "Введите число:\n",
    "1\n",
    "\n",
    "Введите число:\n",
    "4\n",
    "\n",
    "Введите число:\n",
    "6\n",
    "\n",
    "Введите число:\n",
    "0\n",
    "Результат:\n",
    "11\n",
    "\n",
    "Введите число:\n",
    "0\n",
    "Результат:\n",
    "0\n",
    "\n",
    "**Решение:**"
   ]
  },
  {
   "cell_type": "code",
   "execution_count": 22,
   "id": "f73b09eb",
   "metadata": {},
   "outputs": [
    {
     "name": "stdout",
     "output_type": "stream",
     "text": [
      "Введите число: 12\n",
      "Введите число: 0\n",
      "Результат: 12\n"
     ]
    }
   ],
   "source": [
    "a = int(input('Введите число: '))\n",
    "Summa = a\n",
    "while a != 0:\n",
    "    a = int(input('Введите число: '))\n",
    "    Summa += a\n",
    "print(f'Результат: {Summa}')"
   ]
  },
  {
   "cell_type": "markdown",
   "id": "1d22481c",
   "metadata": {},
   "source": [
    "## Задание 3\n",
    "Мы делаем MVP dating-сервиса, и у нас есть список парней и девушек.\n",
    "Выдвигаем гипотезу: лучшие рекомендации мы получим, если просто отсортируем имена по алфавиту и познакомим людей с одинаковыми индексами после сортировки! Но мы не будем никого знакомить, если кто-то может остаться без пары:\n",
    "\n",
    "Примеры работы программы:\n",
    "\n",
    "boys = [‘Peter’, ‘Alex’, ‘John’, ‘Arthur’, ‘Richard’]\n",
    "girls = [‘Kate’, ‘Liza’, ‘Kira’, ‘Emma’, ‘Trisha’]\n",
    "Результат:\n",
    "\n",
    "Идеальные пары:\n",
    "Alex и Emma\n",
    "Arthur и Kate\n",
    "John и Kira\n",
    "Peter и Liza\n",
    "Richard и Trisha\n",
    "boys = [‘Peter’, ‘Alex’, ‘John’, ‘Arthur’, ‘Richard’, ‘Michael’]\n",
    "girls = [‘Kate’, ‘Liza’, ‘Kira’, ‘Emma’, ‘Trisha’]\n",
    "Результат:\n",
    "Внимание, кто-то может остаться без пары!\n",
    "\n",
    "**Решение**:"
   ]
  },
  {
   "cell_type": "code",
   "execution_count": 31,
   "id": "a3818456",
   "metadata": {},
   "outputs": [
    {
     "name": "stdout",
     "output_type": "stream",
     "text": [
      "Введите список парней через запятую и пробел: Mark, Clark, Arthur\n",
      "Введите список девушек через запятую и пробел: Kate, Liza, Kira\n",
      "Результат:\n",
      "\n",
      "Идеальные пары:\n",
      "Arthur и Kate\n",
      "Clark и Kira\n",
      "Mark и Liza\n"
     ]
    }
   ],
   "source": [
    "boys = input('Введите список парней через запятую и пробел: ').split(', ')\n",
    "girls = input('Введите список девушек через запятую и пробел: ').split(', ')\n",
    "print('Результат:\\n')\n",
    "if len(boys) == len(girls):\n",
    "    recomendations = list(zip(sorted(boys), sorted(girls)))\n",
    "    print('Идеальные пары:')\n",
    "    for pair in recomendations:\n",
    "        print(pair[0], 'и', pair[1])\n",
    "else:\n",
    "    \n",
    "    print('Внимание, кто-то может остаться без пары!')"
   ]
  },
  {
   "cell_type": "markdown",
   "id": "9a1b22ec",
   "metadata": {},
   "source": [
    "## Задание 4\n",
    "У нас есть список, содержащий информацию о среднедневной температуре в Фаренгейтах за произвольный период по странам (структура данных в примере). Необходимо написать код, который рассчитает среднюю температуру за период в Цельсиях(!) для каждой страны.\n",
    "\n",
    "Пример работы программы:\n",
    "\n",
    "countries_temperature = [\n",
    "[‘Thailand’, [75.2, 77, 78.8, 73.4, 68, 75.2, 77]],\n",
    "[‘Germany’, [57.2, 55.4, 59, 59, 53.6]],\n",
    "[‘Russia’, [35.6, 37.4, 39.2, 41, 42.8, 39.2, 35.6]],\n",
    "[‘Poland’, [50, 50, 53.6, 57.2, 55.4, 55.4]]\n",
    "]\n",
    "Результат:\n",
    "\n",
    "Средняя температура в странах:\n",
    "Thailand - 23.9 С\n",
    "Germany - 13.8 С\n",
    "Russia - 3.7 С\n",
    "Poland - 12.0 С\n",
    "\n",
    "**Решение:**"
   ]
  },
  {
   "cell_type": "code",
   "execution_count": 46,
   "id": "87b65916",
   "metadata": {},
   "outputs": [],
   "source": [
    "countries_temperature = [['Thailand', [75.2, 77, 78.8, 73.4, 68, 75.2, 77]],\n",
    "                         ['Germany', [57.2, 55.4, 59, 59, 53.6]],\n",
    "                         ['Russia', [35.6, 37.4, 39.2, 41, 42.8, 39.2, 35.6]],\n",
    "                         ['Poland', [50, 50, 53.6, 57.2, 55.4, 55.4]]]"
   ]
  },
  {
   "cell_type": "code",
   "execution_count": 54,
   "id": "3724105c",
   "metadata": {},
   "outputs": [
    {
     "name": "stdout",
     "output_type": "stream",
     "text": [
      "Средняя температура в странах:\n",
      "Thailand - 23.9 C\n",
      "Germany - 13.8 C\n",
      "Russia - 3.7 C\n",
      "Poland - 12.0 C\n"
     ]
    }
   ],
   "source": [
    "print('Средняя температура в странах:')\n",
    "for countries in countries_temperature:\n",
    "    temp_C = 5*(sum(countries[1])/len(countries[1])-32)/9\n",
    "    print(f'{countries[0]} - {round(temp_C,1)} C')"
   ]
  }
 ],
 "metadata": {
  "kernelspec": {
   "display_name": "Python 3",
   "language": "python",
   "name": "python3"
  },
  "language_info": {
   "codemirror_mode": {
    "name": "ipython",
    "version": 3
   },
   "file_extension": ".py",
   "mimetype": "text/x-python",
   "name": "python",
   "nbconvert_exporter": "python",
   "pygments_lexer": "ipython3",
   "version": "3.8.8"
  }
 },
 "nbformat": 4,
 "nbformat_minor": 5
}
