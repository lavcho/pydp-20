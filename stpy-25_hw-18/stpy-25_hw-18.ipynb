{
 "cells": [
  {
   "cell_type": "markdown",
   "id": "b219ec5f",
   "metadata": {},
   "source": [
    "# Домашнее задание к лекции «Корреляция и корреляционный анализ»\n",
    "\n",
    "**Возьмите датасет Mortality and Water Hardness**\n",
    "https://www.kaggle.com/ukveteran/mortality-and-water-hardness\n",
    "\n",
    "*В этом датасете содержатся данные по средней годовой смертности на\n",
    "100000 населения и концентрации кальция в питьевой воде для 61\n",
    "большого города в Англии и Уэльсе. Города дополнительно поделены на\n",
    "северные и южные.*\n",
    "\n",
    "## Задание 1.\n",
    "Ответить на вопрос: есть ли связь между жёсткостью воды и средней годовой смертностью?\n",
    "\n",
    "1. Построить точечный график\n",
    "1. Рассчитать коэффициенты корреляции Пирсона и Спирмена\n",
    "1. Построить модель линейной регрессии\n",
    "1. Рассчитать коэффициент детерминации\n",
    "1. Вывести график остатков"
   ]
  },
  {
   "cell_type": "code",
   "execution_count": 2,
   "id": "8f72933a",
   "metadata": {},
   "outputs": [],
   "source": [
    "from sklearn.linear_model import LinearRegression\n",
    "from sklearn.model_selection import train_test_split\n",
    "import pandas as pd\n",
    "import matplotlib.pyplot as plt\n",
    "import seaborn as sns"
   ]
  },
  {
   "cell_type": "code",
   "execution_count": 3,
   "id": "3875df02",
   "metadata": {},
   "outputs": [
    {
     "data": {
      "text/html": [
       "<div>\n",
       "<style scoped>\n",
       "    .dataframe tbody tr th:only-of-type {\n",
       "        vertical-align: middle;\n",
       "    }\n",
       "\n",
       "    .dataframe tbody tr th {\n",
       "        vertical-align: top;\n",
       "    }\n",
       "\n",
       "    .dataframe thead th {\n",
       "        text-align: right;\n",
       "    }\n",
       "</style>\n",
       "<table border=\"1\" class=\"dataframe\">\n",
       "  <thead>\n",
       "    <tr style=\"text-align: right;\">\n",
       "      <th></th>\n",
       "      <th>location</th>\n",
       "      <th>town</th>\n",
       "      <th>mortality</th>\n",
       "      <th>hardness</th>\n",
       "    </tr>\n",
       "  </thead>\n",
       "  <tbody>\n",
       "    <tr>\n",
       "      <th>0</th>\n",
       "      <td>South</td>\n",
       "      <td>Bath</td>\n",
       "      <td>1247</td>\n",
       "      <td>105</td>\n",
       "    </tr>\n",
       "    <tr>\n",
       "      <th>1</th>\n",
       "      <td>North</td>\n",
       "      <td>Birkenhead</td>\n",
       "      <td>1668</td>\n",
       "      <td>17</td>\n",
       "    </tr>\n",
       "    <tr>\n",
       "      <th>2</th>\n",
       "      <td>South</td>\n",
       "      <td>Birmingham</td>\n",
       "      <td>1466</td>\n",
       "      <td>5</td>\n",
       "    </tr>\n",
       "    <tr>\n",
       "      <th>3</th>\n",
       "      <td>North</td>\n",
       "      <td>Blackburn</td>\n",
       "      <td>1800</td>\n",
       "      <td>14</td>\n",
       "    </tr>\n",
       "    <tr>\n",
       "      <th>4</th>\n",
       "      <td>North</td>\n",
       "      <td>Blackpool</td>\n",
       "      <td>1609</td>\n",
       "      <td>18</td>\n",
       "    </tr>\n",
       "  </tbody>\n",
       "</table>\n",
       "</div>"
      ],
      "text/plain": [
       "  location        town  mortality  hardness\n",
       "0    South        Bath       1247       105\n",
       "1    North  Birkenhead       1668        17\n",
       "2    South  Birmingham       1466         5\n",
       "3    North   Blackburn       1800        14\n",
       "4    North   Blackpool       1609        18"
      ]
     },
     "execution_count": 3,
     "metadata": {},
     "output_type": "execute_result"
    }
   ],
   "source": [
    "df = pd.read_csv('water.csv')\n",
    "df=df[['location', 'town', 'mortality', 'hardness']]\n",
    "df.head()"
   ]
  },
  {
   "cell_type": "code",
   "execution_count": 4,
   "id": "4afd2181",
   "metadata": {},
   "outputs": [
    {
     "data": {
      "text/plain": [
       "Text(0, 0.5, 'смертность')"
      ]
     },
     "execution_count": 4,
     "metadata": {},
     "output_type": "execute_result"
    },
    {
     "data": {
      "image/png": "[encoded data removed]",
      "text/plain": [
       "<Figure size 432x288 with 1 Axes>"
      ]
     },
     "metadata": {
      "needs_background": "light"
     },
     "output_type": "display_data"
    }
   ],
   "source": [
    "plt.scatter(df['hardness'],df['mortality'])\n",
    "plt.title('Смертность в зависимости от жёсткости воды')\n",
    "plt.xlabel('жёсткость воды')\n",
    "plt.ylabel('смертность')"
   ]
  },
  {
   "cell_type": "code",
   "execution_count": 6,
   "id": "666c17e3",
   "metadata": {},
   "outputs": [
    {
     "name": "stdout",
     "output_type": "stream",
     "text": [
      "Взаимосвязь между жёсткостью воды и смертностью\n",
      "-0.632  - коэффициент корреляции Спирмена\n",
      "-0.655  -  коэффициент корреляции Пирсона\n"
     ]
    }
   ],
   "source": [
    "print('Взаимосвязь между жёсткостью воды и смертностью')\n",
    "print(round(df[['hardness', 'mortality']].corr(method='spearman')['hardness']['mortality'],3),' - коэффициент корреляции Спирмена')\n",
    "print(round(df[['hardness', 'mortality']].corr(method='pearson')['hardness']['mortality'],3),' -  коэффициент корреляции Пирсона')"
   ]
  },
  {
   "cell_type": "markdown",
   "id": "eca873a7",
   "metadata": {},
   "source": [
    "Наблюдается обратно пропорциональная связь между жёсткостью воды и смертностью"
   ]
  },
  {
   "cell_type": "code",
   "execution_count": 7,
   "id": "9fbd6934",
   "metadata": {},
   "outputs": [],
   "source": [
    "# подготовка к разделению выборки на обучающую и тестовую\n",
    "X = df[['hardness']]\n",
    "y = df['mortality']\n",
    "X_train, X_test, y_train, y_test = train_test_split(X, y, test_size=0.30, random_state=1)"
   ]
  },
  {
   "cell_type": "code",
   "execution_count": 8,
   "id": "c052e363",
   "metadata": {},
   "outputs": [],
   "source": [
    "model = LinearRegression() # создание объекта - модели линейной регрессии\n",
    "model.fit(X_train, y_train) # обучение модели на обучающей выборке\n",
    "y_pred = model.predict(X_test) # предсказание обученной модели на тестовых данных"
   ]
  },
  {
   "cell_type": "code",
   "execution_count": 9,
   "id": "8a107029",
   "metadata": {},
   "outputs": [
    {
     "name": "stdout",
     "output_type": "stream",
     "text": [
      "Коэффициент детерминации составил 0.306\n"
     ]
    }
   ],
   "source": [
    "print(f'Коэффициент детерминации составил {round(model.score(X_test, y_test),3)}')"
   ]
  },
  {
   "cell_type": "code",
   "execution_count": 10,
   "id": "0ae380e0",
   "metadata": {},
   "outputs": [
    {
     "data": {
      "text/plain": [
       "Text(0, 0.5, 'смертность')"
      ]
     },
     "execution_count": 10,
     "metadata": {},
     "output_type": "execute_result"
    },
    {
     "data": {
      "image/png": "[encoded data removed]",
      "text/plain": [
       "<Figure size 432x288 with 1 Axes>"
      ]
     },
     "metadata": {
      "needs_background": "light"
     },
     "output_type": "display_data"
    }
   ],
   "source": [
    "plt.scatter(X_test, y_test)\n",
    "plt.plot(X_test, y_pred, c='r')\n",
    "plt.title('Смертность в зависимости от жёсткости воды. Модель линейной регрессии')\n",
    "plt.xlabel('жёсткость воды')\n",
    "plt.ylabel('смертность')"
   ]
  },
  {
   "cell_type": "code",
   "execution_count": 11,
   "id": "da44ace8",
   "metadata": {},
   "outputs": [
    {
     "data": {
      "text/plain": [
       "(array([1., 2., 2., 3., 2., 3., 2., 2., 1., 1.]),\n",
       " array([-203.78266981, -155.34831669, -106.91396357,  -58.47961045,\n",
       "         -10.04525733,   38.38909579,   86.82344891,  135.25780202,\n",
       "         183.69215514,  232.12650826,  280.56086138]),\n",
       " <BarContainer object of 10 artists>)"
      ]
     },
     "execution_count": 11,
     "metadata": {},
     "output_type": "execute_result"
    },
    {
     "data": {
      "image/png": "[encoded data removed]",
      "text/plain": [
       "<Figure size 432x288 with 1 Axes>"
      ]
     },
     "metadata": {
      "needs_background": "light"
     },
     "output_type": "display_data"
    }
   ],
   "source": [
    "plt.hist(y_test - y_pred)"
   ]
  },
  {
   "cell_type": "markdown",
   "id": "0d060a94",
   "metadata": {},
   "source": [
    "## Задание 2.\n",
    "Ответить на вопрос: сохраняется ли аналогичная зависимость для северных и южных городов по отдельности?\n",
    "\n",
    "1. Разделить данные на 2 группы\n",
    "1. Повторить аналогичные шаги из пункта 1 для каждой группы по отдельности"
   ]
  },
  {
   "cell_type": "code",
   "execution_count": 13,
   "id": "16005f37",
   "metadata": {},
   "outputs": [],
   "source": [
    "# Разделим данные на северную и южную группы\n",
    "\n",
    "dfs = df.loc[df['location']=='South']\n",
    "dfn = df.loc[df['location']=='North']"
   ]
  },
  {
   "cell_type": "markdown",
   "id": "71a38bbe",
   "metadata": {},
   "source": [
    "### Рассмотрим юг:"
   ]
  },
  {
   "cell_type": "code",
   "execution_count": 14,
   "id": "557b94f5",
   "metadata": {},
   "outputs": [
    {
     "data": {
      "text/plain": [
       "Text(0, 0.5, 'смертность')"
      ]
     },
     "execution_count": 14,
     "metadata": {},
     "output_type": "execute_result"
    },
    {
     "data": {
      "image/png": "[encoded data removed]",
      "text/plain": [
       "<Figure size 432x288 with 1 Axes>"
      ]
     },
     "metadata": {
      "needs_background": "light"
     },
     "output_type": "display_data"
    }
   ],
   "source": [
    "plt.scatter(dfs['hardness'],dfs['mortality'])\n",
    "plt.title('Смертность на юге в зависимости от жёсткости воды')\n",
    "plt.xlabel('жёсткость воды')\n",
    "plt.ylabel('смертность')"
   ]
  },
  {
   "cell_type": "code",
   "execution_count": 15,
   "id": "9c3247c8",
   "metadata": {},
   "outputs": [
    {
     "name": "stdout",
     "output_type": "stream",
     "text": [
      "Взаимосвязь между жёсткостью воды и смертностью\n",
      "-0.596  - коэффициент корреляции Спирмена\n",
      "-0.602  -  коэффициент корреляции Пирсона\n"
     ]
    }
   ],
   "source": [
    "print('Взаимосвязь между жёсткостью воды и смертностью')\n",
    "print(round(dfs[['hardness', 'mortality']].corr(method='spearman')['hardness']['mortality'],3),' - коэффициент корреляции Спирмена')\n",
    "print(round(dfs[['hardness', 'mortality']].corr(method='pearson')['hardness']['mortality'],3),' -  коэффициент корреляции Пирсона')"
   ]
  },
  {
   "cell_type": "markdown",
   "id": "6201dc68",
   "metadata": {},
   "source": [
    "Для юга наблюдается обратно пропорциональная связь между жёсткостью воды и смертностью, но она слабее, чем в целом по всем данным."
   ]
  },
  {
   "cell_type": "code",
   "execution_count": 16,
   "id": "8c84cfce",
   "metadata": {},
   "outputs": [],
   "source": [
    "# подготовка к разделению выборки на обучающую и тестовую\n",
    "X = dfs[['hardness']]\n",
    "y = dfs['mortality']\n",
    "X_train, X_test, y_train, y_test = train_test_split(X, y, test_size=0.30, random_state=1)"
   ]
  },
  {
   "cell_type": "code",
   "execution_count": 17,
   "id": "2403fe98",
   "metadata": {},
   "outputs": [],
   "source": [
    "model = LinearRegression() # создание объекта - модели линейной регрессии\n",
    "model.fit(X_train, y_train) # обучение модели на обучающей выборке\n",
    "y_pred = model.predict(X_test) # предсказание обученной модели на тестовых данных"
   ]
  },
  {
   "cell_type": "code",
   "execution_count": 18,
   "id": "9ff6cf58",
   "metadata": {},
   "outputs": [
    {
     "name": "stdout",
     "output_type": "stream",
     "text": [
      "Коэффициент детерминации составил 0.199\n"
     ]
    }
   ],
   "source": [
    "print(f'Коэффициент детерминации составил {round(model.score(X_test, y_test),3)}')"
   ]
  },
  {
   "cell_type": "code",
   "execution_count": 21,
   "id": "dad6da92",
   "metadata": {},
   "outputs": [
    {
     "data": {
      "text/plain": [
       "Text(0, 0.5, 'смертность')"
      ]
     },
     "execution_count": 21,
     "metadata": {},
     "output_type": "execute_result"
    },
    {
     "data": {
      "image/png": "[encoded data removed]",
      "text/plain": [
       "<Figure size 432x288 with 1 Axes>"
      ]
     },
     "metadata": {
      "needs_background": "light"
     },
     "output_type": "display_data"
    }
   ],
   "source": [
    "plt.scatter(X_test, y_test)\n",
    "plt.plot(X_test, y_pred, c='r')\n",
    "plt.title('Смертность на юге в зависимости от жёсткости воды. Модель линейной регрессии')\n",
    "plt.xlabel('жёсткость воды')\n",
    "plt.ylabel('смертность')"
   ]
  },
  {
   "cell_type": "code",
   "execution_count": 22,
   "id": "7510c900",
   "metadata": {},
   "outputs": [
    {
     "data": {
      "text/plain": [
       "(array([2., 0., 2., 0., 0., 2., 0., 0., 0., 2.]),\n",
       " array([-169.81269955, -140.9391064 , -112.06551325,  -83.1919201 ,\n",
       "         -54.31832695,  -25.4447338 ,    3.42885936,   32.30245251,\n",
       "          61.17604566,   90.04963881,  118.92323196]),\n",
       " <BarContainer object of 10 artists>)"
      ]
     },
     "execution_count": 22,
     "metadata": {},
     "output_type": "execute_result"
    },
    {
     "data": {
      "image/png": "[encoded data removed]",
      "text/plain": [
       "<Figure size 432x288 with 1 Axes>"
      ]
     },
     "metadata": {
      "needs_background": "light"
     },
     "output_type": "display_data"
    }
   ],
   "source": [
    "plt.hist(y_test - y_pred)"
   ]
  },
  {
   "cell_type": "markdown",
   "id": "42297f87",
   "metadata": {},
   "source": [
    "Качество модели стало намного хуже для юга."
   ]
  },
  {
   "cell_type": "markdown",
   "id": "8bd075bd",
   "metadata": {},
   "source": [
    "### Рассмотрим север:"
   ]
  },
  {
   "cell_type": "code",
   "execution_count": 25,
   "id": "7feb31ff",
   "metadata": {},
   "outputs": [
    {
     "data": {
      "text/plain": [
       "Text(0, 0.5, 'смертность')"
      ]
     },
     "execution_count": 25,
     "metadata": {},
     "output_type": "execute_result"
    },
    {
     "data": {
      "image/png": "[encoded data removed]",
      "text/plain": [
       "<Figure size 432x288 with 1 Axes>"
      ]
     },
     "metadata": {
      "needs_background": "light"
     },
     "output_type": "display_data"
    }
   ],
   "source": [
    "plt.scatter(dfn['hardness'],dfn['mortality'])\n",
    "plt.title('Смертность на севере в зависимости от жёсткости воды')\n",
    "plt.xlabel('жёсткость воды')\n",
    "plt.ylabel('смертность')"
   ]
  },
  {
   "cell_type": "code",
   "execution_count": 26,
   "id": "c210aefa",
   "metadata": {},
   "outputs": [
    {
     "name": "stdout",
     "output_type": "stream",
     "text": [
      "Взаимосвязь между жёсткостью воды и смертностью\n",
      "-0.404  - коэффициент корреляции Спирмена\n",
      "-0.369  -  коэффициент корреляции Пирсона\n"
     ]
    }
   ],
   "source": [
    "print('Взаимосвязь между жёсткостью воды и смертностью')\n",
    "print(round(dfn[['hardness', 'mortality']].corr(method='spearman')['hardness']['mortality'],3),' - коэффициент корреляции Спирмена')\n",
    "print(round(dfn[['hardness', 'mortality']].corr(method='pearson')['hardness']['mortality'],3),' -  коэффициент корреляции Пирсона')"
   ]
  },
  {
   "cell_type": "markdown",
   "id": "90237538",
   "metadata": {},
   "source": [
    "Зависимость ещё слабее, чем для юга и в целом по данным"
   ]
  },
  {
   "cell_type": "code",
   "execution_count": 27,
   "id": "80bdc69a",
   "metadata": {},
   "outputs": [],
   "source": [
    "# подготовка к разделению выборки на обучающую и тестовую\n",
    "X = dfn[['hardness']]\n",
    "y = dfn['mortality']\n",
    "X_train, X_test, y_train, y_test = train_test_split(X, y, test_size=0.30, random_state=1)"
   ]
  },
  {
   "cell_type": "code",
   "execution_count": 28,
   "id": "7758761c",
   "metadata": {},
   "outputs": [],
   "source": [
    "model = LinearRegression() # создание объекта - модели линейной регрессии\n",
    "model.fit(X_train, y_train) # обучение модели на обучающей выборке\n",
    "y_pred = model.predict(X_test) # предсказание обученной модели на тестовых данных"
   ]
  },
  {
   "cell_type": "code",
   "execution_count": 29,
   "id": "3eef0360",
   "metadata": {},
   "outputs": [
    {
     "name": "stdout",
     "output_type": "stream",
     "text": [
      "Коэффициент детерминации составил -0.806\n"
     ]
    }
   ],
   "source": [
    "print(f'Коэффициент детерминации составил {round(model.score(X_test, y_test),3)}')"
   ]
  },
  {
   "cell_type": "code",
   "execution_count": 31,
   "id": "1792e1be",
   "metadata": {},
   "outputs": [
    {
     "data": {
      "text/plain": [
       "Text(0, 0.5, 'смертность')"
      ]
     },
     "execution_count": 31,
     "metadata": {},
     "output_type": "execute_result"
    },
    {
     "data": {
      "image/png": "[encoded data removed]",
      "text/plain": [
       "<Figure size 432x288 with 1 Axes>"
      ]
     },
     "metadata": {
      "needs_background": "light"
     },
     "output_type": "display_data"
    }
   ],
   "source": [
    "plt.scatter(X_test, y_test)\n",
    "plt.plot(X_test, y_pred, c='r')\n",
    "plt.title('Смертность на севере в зависимости от жёсткости воды. Модель линейной регрессии')\n",
    "plt.xlabel('жёсткость воды')\n",
    "plt.ylabel('смертность')"
   ]
  },
  {
   "cell_type": "code",
   "execution_count": 32,
   "id": "2f0af9f6",
   "metadata": {},
   "outputs": [
    {
     "data": {
      "text/plain": [
       "(array([1., 1., 0., 2., 0., 0., 4., 0., 2., 1.]),\n",
       " array([-160.77616088, -113.57285996,  -66.36955905,  -19.16625814,\n",
       "          28.03704278,   75.24034369,  122.44364461,  169.64694552,\n",
       "         216.85024644,  264.05354735,  311.25684826]),\n",
       " <BarContainer object of 10 artists>)"
      ]
     },
     "execution_count": 32,
     "metadata": {},
     "output_type": "execute_result"
    },
    {
     "data": {
      "image/png": "[encoded data removed]",
      "text/plain": [
       "<Figure size 432x288 with 1 Axes>"
      ]
     },
     "metadata": {
      "needs_background": "light"
     },
     "output_type": "display_data"
    }
   ],
   "source": [
    "plt.hist(y_test - y_pred)"
   ]
  },
  {
   "cell_type": "markdown",
   "id": "d25a2f1e",
   "metadata": {},
   "source": [
    "Остатки в целом отдалённо напоминают нормальное распределение, но явно не полностью."
   ]
  }
 ],
 "metadata": {
  "kernelspec": {
   "display_name": "Python 3",
   "language": "python",
   "name": "python3"
  },
  "language_info": {
   "codemirror_mode": {
    "name": "ipython",
    "version": 3
   },
   "file_extension": ".py",
   "mimetype": "text/x-python",
   "name": "python",
   "nbconvert_exporter": "python",
   "pygments_lexer": "ipython3",
   "version": "3.8.8"
  }
 },
 "nbformat": 4,
 "nbformat_minor": 5
}
