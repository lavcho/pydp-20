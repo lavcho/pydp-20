{
 "cells": [
  {
   "cell_type": "markdown",
   "id": "6a84ee6f",
   "metadata": {},
   "source": [
    "# Домашнее задание к лекции Работа с файловой системой и модули"
   ]
  },
  {
   "cell_type": "markdown",
   "id": "765cfd23",
   "metadata": {},
   "source": [
    "## Домашнее задание\n",
    "\n",
    "1. Переведите содержимое файла purchase_log.txt в словарь purchases вида:\n",
    "{‘1840e0b9d4’: ‘Продукты’, …}\n",
    "\n",
    "2. Для каждого user_id в файле visit_log.csv определите третий столбец с категорией покупки (если покупка была, сам файл visit_log.csv изменять не надо). Запишите в файл funnel.csv визиты из файла visit_log.csv, в которых были покупки с указанием категории.\n",
    "\n",
    "Учтите условия на данные:\n",
    "* содержимое purchase_log.txt помещается в оперативную память компьютера\n",
    "* содержимое visit_log.csv - нет; используйте только построчную обработку этого файла"
   ]
  },
  {
   "cell_type": "code",
   "execution_count": 1,
   "id": "f3dbd919",
   "metadata": {},
   "outputs": [],
   "source": [
    "import json"
   ]
  },
  {
   "cell_type": "markdown",
   "id": "93a424c1",
   "metadata": {},
   "source": [
    "### Часть 1"
   ]
  },
  {
   "cell_type": "code",
   "execution_count": 12,
   "id": "d94c2c6b",
   "metadata": {},
   "outputs": [],
   "source": [
    "purchases = {}\n",
    "\n",
    "with open('purchase_log.txt', 'r', encoding='UTF-8') as f:\n",
    "    for i, line in enumerate(f):\n",
    "        if i != 0:\n",
    "            dict_line = json.loads(line)\n",
    "            purchases[dict_line['user_id']] = dict_line['category']"
   ]
  },
  {
   "cell_type": "markdown",
   "id": "9d1fcb6e",
   "metadata": {},
   "source": [
    "### Часть 2"
   ]
  },
  {
   "cell_type": "code",
   "execution_count": 21,
   "id": "5e8117e3",
   "metadata": {},
   "outputs": [],
   "source": [
    "with open('visit_log.csv', 'r', encoding='UTF-8') as f:\n",
    "    with open('funnel.csv', 'w', encoding='UTF-8') as f2write:\n",
    "        for line in f:\n",
    "            new_line = line.strip().split(',')\n",
    "            if new_line[0] in purchases:\n",
    "                new_line.append(purchases[new_line[0]])\n",
    "                f2write.write(','.join(new_line) + '\\n')"
   ]
  }
 ],
 "metadata": {
  "kernelspec": {
   "display_name": "Python 3",
   "language": "python",
   "name": "python3"
  },
  "language_info": {
   "codemirror_mode": {
    "name": "ipython",
    "version": 3
   },
   "file_extension": ".py",
   "mimetype": "text/x-python",
   "name": "python",
   "nbconvert_exporter": "python",
   "pygments_lexer": "ipython3",
   "version": "3.8.8"
  }
 },
 "nbformat": 4,
 "nbformat_minor": 5
}
