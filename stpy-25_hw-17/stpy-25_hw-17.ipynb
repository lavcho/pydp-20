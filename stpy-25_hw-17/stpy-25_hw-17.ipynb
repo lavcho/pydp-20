{
 "cells": [
  {
   "cell_type": "markdown",
   "id": "6b1ca2fd",
   "metadata": {},
   "source": [
    "# Домашнее задание к лекции «Случайные события. Случайные величины»\n",
    "\n",
    "Смоделировать игру против лотерейного автомата типа “777”. Игрок платит 1 руб., после чего выпадает случайное целое число, равномерно распределенное от 0 до 999. При некоторых значениях числа игрок получает выигрыш.\n",
    "\n",
    "777: 200 руб.\n",
    "\n",
    "999: 100 руб.\n",
    "\n",
    "555: 50 руб.\n",
    "\n",
    "333: 15 руб.\n",
    "\n",
    "111: 10 руб.\n",
    "\n",
    "*77: 5 руб.\n",
    "\n",
    "**7: 3 руб.\n",
    "\n",
    "*00: 2 руб.\n",
    "\n",
    "**0: 1 руб.\n",
    "\n",
    "Вопросы:\n",
    "\n",
    "Выгодна ли игра игроку?\n",
    "Сколько в среднем приобретает или теряет игрок за одну игру?\n",
    "\n",
    "**Дополнительное задание повышенной сложности.**\n",
    "\n",
    "Теоретически рассчитать средний выигрыш (проигрыш) и сравнить с результатами моделирования\n",
    "\n",
    "– любая цифра"
   ]
  },
  {
   "cell_type": "code",
   "execution_count": 1,
   "id": "534ed8b3",
   "metadata": {},
   "outputs": [],
   "source": [
    "import numpy as np"
   ]
  },
  {
   "cell_type": "code",
   "execution_count": 17,
   "id": "ab1ddc54",
   "metadata": {},
   "outputs": [],
   "source": [
    "def payment_counter(combs):\n",
    "    '''\n",
    "    Функция по комбинации combs определяет сумму выигрыша в рублях на основании правил задания'''\n",
    "    \n",
    "    if combs == 777:\n",
    "        return 200\n",
    "    elif combs == 999:\n",
    "        return 100\n",
    "    elif combs == 555:\n",
    "        return 50\n",
    "    elif combs == 333:\n",
    "        return 15\n",
    "    elif combs == 111:\n",
    "        return 10\n",
    "    elif combs % 100 == 77:\n",
    "        return 5\n",
    "    elif combs % 10 == 7:\n",
    "        return 3\n",
    "    elif combs % 100 == 0:\n",
    "        return 2\n",
    "    elif combs % 10 == 0:\n",
    "        return 1\n",
    "    else:\n",
    "        return 0"
   ]
  },
  {
   "cell_type": "code",
   "execution_count": 45,
   "id": "442f4da8",
   "metadata": {},
   "outputs": [
    {
     "name": "stdout",
     "output_type": "stream",
     "text": [
      "За 1000000 игр, потратив 1000000 рубл(ей), выиграл 692430 рублей. Общий доход от игр составил -307570 рублей.\n",
      "Средний выигрыш за игру составляет -0.30757 рублей\n"
     ]
    }
   ],
   "source": [
    "trials = 1000000 # сколько будет сыграно игр\n",
    "bid = 1 # стоимость одной игры\n",
    "cost = 0 # сколько денег потрачено за количество игр (trials)\n",
    "wins = 0 # сколько выиграно\n",
    "\n",
    "for spin in range(trials):\n",
    "    cost += bid # увеличиваем счётчик потраченных на игры денег\n",
    "    wins += payment_counter(int(np.random.uniform(0,999))) # увеличиваем счётчик выигрыша с очередной выпавшей комбинации\n",
    "    \n",
    "income = wins - cost # общий доход с серии игр\n",
    "average_income = income / trials # средний доход с серии игр\n",
    "\n",
    "print(f'За {trials} игр, потратив {bid*trials} рубл(ей), выиграл {wins} рублей. Общий доход от игр составил {income} рублей.')\n",
    "print(f'Средний выигрыш за игру составляет {average_income} рублей')"
   ]
  },
  {
   "cell_type": "markdown",
   "id": "8610e864",
   "metadata": {},
   "source": [
    "Игра невыгодна игроку, т.к. в среднем он будет терять деньги с каждой игрой."
   ]
  },
  {
   "cell_type": "code",
   "execution_count": 67,
   "id": "002aa8e3",
   "metadata": {},
   "outputs": [
    {
     "name": "stdout",
     "output_type": "stream",
     "text": [
      "Теоретическая средняя величина выигрыша - 0.05500000000000005\n"
     ]
    }
   ],
   "source": [
    "theoretic_average = (1/1000)*(200+100+50+15+10) \\\n",
    "    +(9/1000)*5 \\\n",
    "    +((100-1)/1000)*3 \\\n",
    "    +(9/1000)*2 \\\n",
    "    +((100-1)/1000)*1 \\\n",
    "    +((1000-5-9-99-9-99)/1000)*(-1)\n",
    "print(f'Теоретическая средняя величина выигрыша - {theoretic_average}')"
   ]
  },
  {
   "cell_type": "markdown",
   "id": "d7d87401",
   "metadata": {},
   "source": [
    "**Не могу понять, где ошибка,** но теоретическая величина значительно отличается от эмпирической. Если сможете дать указание на ошибку, было бы просто замечательно!"
   ]
  }
 ],
 "metadata": {
  "kernelspec": {
   "display_name": "Python 3",
   "language": "python",
   "name": "python3"
  },
  "language_info": {
   "codemirror_mode": {
    "name": "ipython",
    "version": 3
   },
   "file_extension": ".py",
   "mimetype": "text/x-python",
   "name": "python",
   "nbconvert_exporter": "python",
   "pygments_lexer": "ipython3",
   "version": "3.8.8"
  }
 },
 "nbformat": 4,
 "nbformat_minor": 5
}
